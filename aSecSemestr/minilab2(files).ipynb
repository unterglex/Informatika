{
 "cells": [
  {
   "cell_type": "code",
   "execution_count": 1,
   "id": "f4765956-eddd-4e5c-8e00-6ab319c3d02f",
   "metadata": {},
   "outputs": [
    {
     "name": "stdout",
     "output_type": "stream",
     "text": [
      "Рандом: 3\n"
     ]
    }
   ],
   "source": [
    "from random import seed, randint\n",
    "seed(213)\n",
    "x=randint(1,9)\n",
    "print('Рандом:',x)"
   ]
  },
  {
   "cell_type": "code",
   "execution_count": 7,
   "id": "244b2f30-4c43-4090-91ed-093f3f5c817f",
   "metadata": {},
   "outputs": [
    {
     "data": {
      "text/plain": [
       "'На основании результатов соревнований по прыжкам в длину (фамилии и результаты трёх попыток) составить итоговый протокол соревнований, считая, что в зачёт идёт лучший результат.'"
      ]
     },
     "execution_count": 7,
     "metadata": {},
     "output_type": "execute_result"
    }
   ],
   "source": [
    "'На основании результатов соревнований по прыжкам в длину (фамилии и результаты трёх попыток) составить итоговый протокол соревнований, считая, что в зачёт идёт лучший результат.'"
   ]
  },
  {
   "cell_type": "code",
   "execution_count": 17,
   "id": "4011416d-857f-4bb7-bddb-d604e4527366",
   "metadata": {},
   "outputs": [
    {
     "name": "stdout",
     "output_type": "stream",
     "text": [
      "Исходные данные:\n",
      "Иванов       2.45  2.38  2.51  \n",
      "Петров       2.61  2.57  2.63  \n",
      "Сидоров      2.39  2.42  2.47  \n",
      "Кузнецов     2.55  2.50  2.58  \n",
      "Смирнов      2.48  2.44  2.52  \n",
      "Михайлов     2.59  2.62  2.60  \n",
      "Алексеев     2.41  2.37  2.46\n",
      "Пустой lala.txt:\n",
      "\n",
      "Вывод\n",
      "Петров 2.63\n",
      "Михайлов 2.62\n",
      "Кузнецов 2.58\n",
      "Смирнов 2.52\n",
      "Иванов 2.51\n",
      "Сидоров 2.47\n",
      "Алексеев 2.46\n",
      "\n"
     ]
    }
   ],
   "source": [
    "print('Исходные данные:')\n",
    "with open('ggwp.txt', 'r',encoding='utf-8') as file:\n",
    "    content = file.read()\n",
    "    print(content)\n",
    "print('Пустой lala.txt:')\n",
    "with open('lala.txt', 'r',encoding='utf-8') as file:\n",
    "    content = file.read()\n",
    "    print(content)\n",
    "    \n",
    "def read_data(filename):\n",
    "    with open(filename, 'r', encoding='utf-8') as file: #без утф-8 у меня китайские иероглифы\n",
    "        lines = file.readlines()\n",
    "    data = []\n",
    "    for line in lines:\n",
    "        parts = line.split()  # Разделение строки на фамилию и результаты\n",
    "        if len(parts) < 2:  # Если нет результатов попыток, пропускаем строку\n",
    "            continue\n",
    "        surname = parts[0]\n",
    "        attempts = list(map(float, parts[1:]))\n",
    "        data.append((surname, attempts))\n",
    "    return data\n",
    "def best_attempt(attempts):\n",
    "    if not attempts:  # Если список пуст\n",
    "        return 0\n",
    "    return max(attempts)\n",
    "def write_results(filename, data):\n",
    "    with open(filename, 'w', encoding='utf-8') as file:\n",
    "        for surname, best in data:\n",
    "            file.write(f\"{surname} {best}\\n\")\n",
    "def main():\n",
    "    input_filename = 'ggwp.txt'  # Файл с исходными данными\n",
    "    output_filename = 'lala.txt'  # Файл для записи результатов\n",
    "    data = read_data(input_filename)\n",
    "    best_results = [(surname, best_attempt(attempts)) for surname, attempts in data]\n",
    "    best_results.sort(key=lambda x: x[1], reverse=True)\n",
    "    write_results(output_filename, best_results)\n",
    "if __name__ == \"__main__\":\n",
    "    main()\n",
    "    \n",
    "print('Вывод')\n",
    "with open('lala.txt', 'r',encoding='utf-8') as file:\n",
    "    content = file.read()\n",
    "    print(content)"
   ]
  },
  {
   "cell_type": "code",
   "execution_count": null,
   "id": "f71a7d32-56f6-44aa-b5f3-9908038bfe71",
   "metadata": {},
   "outputs": [],
   "source": []
  }
 ],
 "metadata": {
  "kernelspec": {
   "display_name": "Python 3 (ipykernel)",
   "language": "python",
   "name": "python3"
  },
  "language_info": {
   "codemirror_mode": {
    "name": "ipython",
    "version": 3
   },
   "file_extension": ".py",
   "mimetype": "text/x-python",
   "name": "python",
   "nbconvert_exporter": "python",
   "pygments_lexer": "ipython3",
   "version": "3.12.4"
  }
 },
 "nbformat": 4,
 "nbformat_minor": 5
}
