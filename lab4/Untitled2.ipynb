{
 "cells": [
  {
   "cell_type": "code",
   "execution_count": 1,
   "id": "e6d3c0d0-3a74-4a35-a4c6-2d3aadd4fa7a",
   "metadata": {},
   "outputs": [
    {
     "name": "stdout",
     "output_type": "stream",
     "text": [
      "30 3 2\n"
     ]
    }
   ],
   "source": [
    "from random import seed, randint\n",
    "seed(413)\n",
    "x1=randint(1,33)\n",
    "x2=randint(1,9)\n",
    "x3=randint(1,14)\n",
    "print(x1,x2,x3)"
   ]
  },
  {
   "cell_type": "code",
   "execution_count": 27,
   "id": "ec209f5b-fe25-4348-b5b4-06c33616dcde",
   "metadata": {},
   "outputs": [
    {
     "name": "stdout",
     "output_type": "stream",
     "text": [
      "Начальная матрица:\n",
      "[1, 0, -2, 45, 2]\n",
      "[198, -12, 45, -87, 1]\n",
      "[21, 74, -78, 74, 43]\n",
      "[9, 98, 72, -19, 38]\n",
      "[1, 4, 73, 74, 32]\n",
      "Строка с наибольшим значением в диагонали: 5\n",
      "Строка с первым отрицательным значением в 3 столбце: 1\n",
      "Заменяем 5 строку на 1 строку\n",
      "Получаем:\n",
      "[1, 4, 73, 74, 32]\n",
      "[198, -12, 45, -87, 1]\n",
      "[21, 74, -78, 74, 43]\n",
      "[9, 98, 72, -19, 38]\n",
      "[1, 0, -2, 45, 2]\n"
     ]
    }
   ],
   "source": [
    "'Уровень 1, задание 30'\n",
    "b=[[1,0,-2,45,2],\n",
    "   [198,-12,45,-87,1],\n",
    "   [21,74,-78,74,43],\n",
    "   [9,98,72,-19,38],\n",
    "   [1,4,73,74,32]]\n",
    "max=b[0][0]\n",
    "minus=0\n",
    "print('Начальная матрица:')\n",
    "for z in b:\n",
    "    print(z)\n",
    "for i in range(5):\n",
    "    for j in range(5):\n",
    "        if b[i][j]<0:\n",
    "            if minus<j:\n",
    "                break\n",
    "            else:minus=j\n",
    "        if i==j:\n",
    "            if b[i][j]>=max:\n",
    "                max=b[i][j]\n",
    "                stroka=j\n",
    "for k in range(5):\n",
    "    b[minus][k], b[stroka][k]=b[stroka][k], b[minus][k]\n",
    "print('Строка с наибольшим значением в диагонали:',stroka+1)\n",
    "print('Строка с первым отрицательным значением в 3 столбце:',minus+1)\n",
    "print(f'Заменяем {stroka+1} строку на {minus+1} строку')\n",
    "print('Получаем:')\n",
    "for v in b:\n",
    "    print(v)"
   ]
  },
  {
   "cell_type": "code",
   "execution_count": 19,
   "id": "2123eeba-3255-4195-8400-9005a8407965",
   "metadata": {},
   "outputs": [
    {
     "name": "stdout",
     "output_type": "stream",
     "text": [
      "Исходная матрица:\n",
      "[822, 5, 8, 2, 9, 10, 100, 98, 56, 53]\n",
      "[82, 43, 1, 4, 266, 9, 43, 92, 7, 0]\n",
      "[2, 5, 8, 10, 9, 10, 13, 98, 56, 52]\n",
      "[83, 44, 1, 4, 261, 29, 43, 92, 7, 0]\n",
      "[84, 43, 1, 4, 262, 29, 43, 92, 7, 0]\n",
      "\n",
      "Конечная матрица:\n",
      "[251, 5, 11, 2, 532, 10, 142, 374, 77, 52]\n",
      "[82, 43, 1, 4, 266, 9, 43, 92, 7, 0]\n",
      "[2, 5, 8, 10, 9, 10, 13, 98, 56, 52]\n",
      "[83, 44, 1, 4, 261, 29, 43, 92, 7, 0]\n",
      "[84, 43, 1, 4, 262, 29, 43, 92, 7, 0]\n"
     ]
    }
   ],
   "source": [
    "'Уровень 2, задание 3'\n",
    "A = [[822, 5, 8, 2, 9, 10, 100, 98, 56, 53],\n",
    "     [82, 43, 1, 4, 266, 9, 43, 92, 7, 0],\n",
    "     [2, 5, 8, 10, 9, 10, 13, 98, 56, 52],\n",
    "     [83, 44, 1, 4, 261, 29, 43, 92, 7, 0],\n",
    "     [84, 43, 1, 4, 262, 29, 43, 92, 7, 0]]\n",
    "print(\"Исходная матрица:\")\n",
    "for z in A:\n",
    "    print(z)\n",
    "for j in range(10):\n",
    "    max_value = A[0][j]\n",
    "    max_index = 0\n",
    "    for i in range(5):\n",
    "        if A[i][j] > max_value:\n",
    "            max_value = A[i][j]\n",
    "            max_index = i\n",
    "    if max_index < 2:\n",
    "        summa = 0\n",
    "        for i in range(max_index + 1, 5):\n",
    "            summa += A[i][j]\n",
    "        A[0][j] = summa\n",
    "print(\"\\nКонечная матрица:\")\n",
    "for v in A:\n",
    "    print(v)"
   ]
  },
  {
   "cell_type": "code",
   "execution_count": 29,
   "id": "3ed10f77-321d-4496-be28-7818c2895342",
   "metadata": {},
   "outputs": [
    {
     "name": "stdout",
     "output_type": "stream",
     "text": [
      "Исходная матрица:\n",
      "[1, 2, 3, 4, 5]\n",
      "[1, 2, 3, 4, 5]\n",
      "[1, 2, 3, 4, 5]\n",
      "[1, 2, 3, 4, 5]\n",
      "[1, 2, 3, 4, 5]\n",
      "Конечная матрица:\n",
      "[0, 0, 0, 0, 0]\n",
      "[0, 2, 3, 4, 0]\n",
      "[0, 2, 3, 4, 0]\n",
      "[0, 2, 3, 4, 0]\n",
      "[0, 0, 0, 0, 0]\n"
     ]
    }
   ],
   "source": [
    "'Уровень 3, задание 2'\n",
    "A = [[1,2,3,4,5],\n",
    "    [1,2,3,4,5],\n",
    "    [1,2,3,4,5],\n",
    "    [1,2,3,4,5],\n",
    "    [1,2,3,4,5]]\n",
    "n=5\n",
    "print('Исходная матрица:')\n",
    "for z in A:\n",
    "    print(z)\n",
    "for i in range(n):\n",
    "    A[0][i]=0\n",
    "    A[i][0]=0\n",
    "    A[-1][i]=0\n",
    "    A[i][-1]=0\n",
    "print('Конечная матрица:')\n",
    "for v in A:\n",
    "    print(v)"
   ]
  },
  {
   "cell_type": "code",
   "execution_count": null,
   "id": "bc1887be-6ca8-48dd-b388-173b53f44df8",
   "metadata": {},
   "outputs": [],
   "source": []
  }
 ],
 "metadata": {
  "kernelspec": {
   "display_name": "Python 3 (ipykernel)",
   "language": "python",
   "name": "python3"
  },
  "language_info": {
   "codemirror_mode": {
    "name": "ipython",
    "version": 3
   },
   "file_extension": ".py",
   "mimetype": "text/x-python",
   "name": "python",
   "nbconvert_exporter": "python",
   "pygments_lexer": "ipython3",
   "version": "3.12.4"
  }
 },
 "nbformat": 4,
 "nbformat_minor": 5
}
