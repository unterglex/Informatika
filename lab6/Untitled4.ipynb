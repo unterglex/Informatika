{
 "cells": [
  {
   "cell_type": "code",
   "execution_count": 3,
   "id": "aa10c0ea-4141-4d3c-892d-228d4c40dce3",
   "metadata": {},
   "outputs": [
    {
     "name": "stdout",
     "output_type": "stream",
     "text": [
      "3 3 1\n"
     ]
    }
   ],
   "source": [
    "'''RANDOM'''\n",
    "from random import seed, randint\n",
    "seed(613)\n",
    "x1=randint(1,5)\n",
    "x2=randint(1,9)\n",
    "x3=randint(1,6)\n",
    "print(x1,x2,x3)"
   ]
  },
  {
   "cell_type": "code",
   "execution_count": 25,
   "id": "81763581-9bb6-410e-b6c1-0cf08060090f",
   "metadata": {},
   "outputs": [
    {
     "name": "stdout",
     "output_type": "stream",
     "text": [
      "Имя: Алексей, возраст: 17, город: Москва, человек года: Илон Маск\n",
      "Имя: Мария, возраст: 28, город: Санкт-Петербург, человек года: Тейлор Свифт\n",
      "Имя: Владислав, возраст: 18, город: Ижевск, человек года: Дональд Трамп\n",
      "Имя: Иван, возраст: 20, город: Волгоград, человек года: Дональд Трамп\n",
      "Имя: Петр, возраст: 24, город: Элиста, человек года: Барак Обама\n",
      "Имя: Ольга, возраст: 22, город: Казань, человек года: Илон Маск\n",
      "Имя: Анна, возраст: 19, город: Новосибирск, человек года: Илон Маск\n",
      "Имя: Кирилл, возраст: 21, город: Мурманск, человек года: Дональд Трамп\n"
     ]
    }
   ],
   "source": [
    "'''Уровень 1, задание 3\n",
    "Радиокомпания провела опрос слушателей по вопросу: «Кого вы считаете человеком года?».\n",
    "Определить пять наиболее часто встречающихся ответов и их долей (в процентах от общего количества ответов).'''\n",
    "class BestPerson:\n",
    "    def __init__(self, name, age, city, best):\n",
    "        self.name = name\n",
    "        self.age = age\n",
    "        self.city = city\n",
    "        self.best = best\n",
    "    def get_data(self):\n",
    "        print(f'Имя: {self.name}, возраст: {self.age}, город: {self.city}, человек года: {self.best}')\n",
    "people = [\n",
    "    BestPerson('Алексей', 17, 'Москва', 'Илон Маск'),\n",
    "    BestPerson('Мария', 28, 'Санкт-Петербург', 'Тейлор Свифт'),\n",
    "    BestPerson('Владислав', 18, 'Ижевск', 'Дональд Трамп'),\n",
    "    BestPerson('Иван', 20, 'Волгоград', 'Дональд Трамп'),\n",
    "    BestPerson('Петр', 24, 'Элиста', 'Барак Обама'),\n",
    "    BestPerson('Ольга', 22, 'Казань', 'Илон Маск'),\n",
    "    BestPerson('Анна', 19, 'Новосибирск', 'Илон Маск'),\n",
    "    BestPerson('Кирилл', 21, 'Мурманск', 'Дональд Трамп')]\n",
    "for i in people:\n",
    "    i.get_data()"
   ]
  },
  {
   "cell_type": "code",
   "execution_count": 27,
   "id": "2a0acbff-f32c-405a-b209-fc5e81d0f3f7",
   "metadata": {},
   "outputs": [
    {
     "name": "stdout",
     "output_type": "stream",
     "text": [
      "Лужников: 382, 278, 178\n",
      "Кузнецов: 400, 402, 403\n",
      "Шумилов: 392, 298, 342\n",
      "Гусев: 321, 342, 312\n",
      "Волков: 322, 462, 356\n",
      "\n",
      "Итоговая таблица:\n",
      "Лужников: 382\n",
      "Кузнецов: 403\n",
      "Шумилов: 392\n",
      "Гусев: 342\n",
      "Волков: 462\n"
     ]
    }
   ],
   "source": [
    "'''Уровень 2, задание 3\n",
    "На основании результатов соревнований по прыжкам в длину (фамилии и результаты трех попыток) \n",
    "составить итоговый протокол соревнований, считая, что в зачет идет лучший результат.'''\n",
    "\n",
    "class Jumper:\n",
    "    def __init__(self, surname, jumps):\n",
    "        self.surname = surname\n",
    "        self.jumps = jumps\n",
    "        self.max_jump = max(jumps)\n",
    "    def display_results(self):\n",
    "        print(f'{self.surname}: {self.jumps[0]}, {self.jumps[1]}, {self.jumps[2]}')\n",
    "    def display_best_result(self):\n",
    "        print(f'{self.surname}: {self.max_jump}')\n",
    "jumpers = [\n",
    "    Jumper('Лужников', [382, 278, 178]),\n",
    "    Jumper('Кузнецов', [400, 402, 403]),\n",
    "    Jumper('Шумилов', [392, 298, 342]),\n",
    "    Jumper('Гусев', [321, 342, 312]),\n",
    "    Jumper('Волков', [322, 462, 356])]\n",
    "for i in jumpers:\n",
    "    i.display_results()\n",
    "print('\\nИтоговая таблица:')\n",
    "for k in jumpers:\n",
    "    k.display_best_result()"
   ]
  },
  {
   "cell_type": "code",
   "execution_count": 39,
   "id": "71a91889-4cd1-4485-8fa5-49a566de0c69",
   "metadata": {},
   "outputs": [
    {
     "name": "stdout",
     "output_type": "stream",
     "text": [
      "\n",
      "Группа под номером 1 включает в себя 3 студентов\n",
      "Их оценки:\n",
      "[5, 4, 3, 3, 5]\n",
      "[5, 3, 2, 5, 5]\n",
      "[3, 3, 3, 2, 4]\n",
      "Средний балл группы: 3.6666666666666665\n",
      "\n",
      "Группа под номером 2 включает в себя 4 студентов\n",
      "Их оценки:\n",
      "[3, 3, 2, 3, 4]\n",
      "[5, 5, 5, 5, 5]\n",
      "[3, 4, 3, 4, 5]\n",
      "[2, 2, 2, 3, 4]\n",
      "Средний балл группы: 3.6\n",
      "\n",
      "Группа под номером 3 включает в себя 3 студентов\n",
      "Их оценки:\n",
      "[3, 2, 3, 4, 5]\n",
      "[4, 2, 4, 5, 5]\n",
      "[5, 5, 5, 3, 4]\n",
      "Средний балл группы: 3.933333333333333\n",
      "\n",
      "Рейтинг групп по среднему баллу:\n",
      "--------------------------------------------------\n",
      " Номер группы    Кол-во студентов   Средний балл  \n",
      "--------------------------------------------------\n",
      "       3                3               3.93      \n",
      "       1                3               3.67      \n",
      "       2                4                3.6      \n",
      "--------------------------------------------------\n",
      "Средний балл потока:  3.7333333333333334\n"
     ]
    }
   ],
   "source": [
    "'''Уровень 3, задание 1\n",
    "Результаты сессии содержат оценки 5 экзаменов по каждой группе.\n",
    "Определить средний балл для трех групп студентов одного потока и выдать список групп в порядке убывания среднего балла.\n",
    "Результаты вывести в виде таблицы с заголовком.'''\n",
    "class group:\n",
    "    def __init__(self, num_group, num_memb, grade):\n",
    "        self.num_group = num_group\n",
    "        self.num_memb = num_memb\n",
    "        self.grade = grade\n",
    "    def get_data(self):\n",
    "        print(f'\\nГруппа под номером {self.num_group} включает в себя {self.num_memb} студентов')\n",
    "        print('Их оценки:')\n",
    "        for b in self.grade:\n",
    "            print(b)\n",
    "    def averagescore(self):\n",
    "        s=0\n",
    "        for k in range(len(self.grade)):\n",
    "            for z in range(5):\n",
    "                s+=self.grade[k][z]\n",
    "        avg=s/(len(self.grade)*5)\n",
    "        return(avg)\n",
    "groups = [\n",
    "    group(1,3,[[5,4,3,3,5],[5,3,2,5,5],[3,3,3,2,4]]),\n",
    "    group(2, 4, [[3,3,2,3,4],[5,5,5,5,5],[3,4,3,4,5],[2,2,2,3,4]]),\n",
    "    group(3, 3, [[3,2,3,4,5],[4,2,4,5,5],[5,5,5,3,4]])]\n",
    "for i in groups:\n",
    "    i.get_data()\n",
    "    print('Средний балл группы:',i.averagescore())\n",
    "sorted_groups = sorted(groups, key=lambda x: x.averagescore(), reverse=True)\n",
    "print('\\nРейтинг групп по среднему баллу:')\n",
    "print('-' * 50)\n",
    "print(f\"{'Номер группы':^15}{'Кол-во студентов':^20}{'Средний балл':^15}\")\n",
    "print('-' * 50)\n",
    "for g in sorted_groups:\n",
    "    print(f\"{g.num_group:^15}{g.num_memb:^20}{round(g.averagescore(), 2):^15}\")\n",
    "print('-' * 50)\n",
    "avg_potok = 0\n",
    "for v in groups:\n",
    "    avg_potok += v.averagescore()/3\n",
    "print('Средний балл потока: ',avg_potok)"
   ]
  },
  {
   "cell_type": "code",
   "execution_count": null,
   "id": "63179cf2-32e3-441e-ba06-e637bf78504d",
   "metadata": {},
   "outputs": [],
   "source": []
  }
 ],
 "metadata": {
  "kernelspec": {
   "display_name": "Python 3 (ipykernel)",
   "language": "python",
   "name": "python3"
  },
  "language_info": {
   "codemirror_mode": {
    "name": "ipython",
    "version": 3
   },
   "file_extension": ".py",
   "mimetype": "text/x-python",
   "name": "python",
   "nbconvert_exporter": "python",
   "pygments_lexer": "ipython3",
   "version": "3.12.4"
  }
 },
 "nbformat": 4,
 "nbformat_minor": 5
}
