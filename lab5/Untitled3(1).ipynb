{
 "cells": [
  {
   "cell_type": "code",
   "execution_count": 21,
   "id": "3cdb9c47-227f-4f99-b279-e649e73f2184",
   "metadata": {},
   "outputs": [
    {
     "name": "stdout",
     "output_type": "stream",
     "text": [
      "2 10 6\n"
     ]
    }
   ],
   "source": [
    "''' РАНДОМ '''\n",
    "\n",
    "from random import seed, randint\n",
    "seed(13)\n",
    "x1=randint(1,3)\n",
    "x2=randint(1,28)\n",
    "x3=randint(1,6)\n",
    "print(x1,x2,x3)"
   ]
  },
  {
   "cell_type": "code",
   "execution_count": 23,
   "id": "f300eb58-6740-413e-8e37-43c768308f26",
   "metadata": {},
   "outputs": [
    {
     "name": "stdout",
     "output_type": "stream",
     "text": [
      "Площадь треугольника со стронами [1, 3, 3] равна: 1.479019945774904\n",
      "Площадь треугольника со стронами [4, 5, 6] равна: 9.921567416492215\n"
     ]
    }
   ],
   "source": [
    "''' Уровень 1, задание 2\n",
    "Два треугольника заданы длинами своих сторон а, b и с.\n",
    "Определить треугольник с большей площадью, вычисляя площади треугольников по формуле Герона.'''\n",
    "\n",
    "A = [1,3,3]\n",
    "B = [4,5,6]\n",
    "def ploshad(a):\n",
    "    summa=0\n",
    "    import math\n",
    "    for i in range(len(a)):\n",
    "        summa+=a[i]\n",
    "        p=summa/2\n",
    "    s = math.sqrt(p*(p-a[0])*(p-a[1])*(p-a[2]))\n",
    "    return(s)\n",
    "print(f'Площадь треугольника со стронами {A} равна:', ploshad(A))\n",
    "print(f'Площадь треугольника со стронами {B} равна:', ploshad(B))\n",
    "#Если получаем 0, либо ошибку, то такого треугольника не существует."
   ]
  },
  {
   "cell_type": "code",
   "execution_count": 5,
   "id": "ff5e0ecb-1f88-4c45-bece-b430300a3e2d",
   "metadata": {},
   "outputs": [
    {
     "name": "stdout",
     "output_type": "stream",
     "text": [
      "[1, 2, 3, 994, 5]\n",
      "[7, 3, -2, 8, 3]\n",
      "[92, 76, 12, -1, 4]\n",
      "[7, 3, 2, 3, 4]\n",
      "[72, 52, 8, 9, 10]\n",
      "Максимальный элемент под главной диагональю: 92\n",
      "Минимальный элемент над главной диагональю: -2\n",
      "Конечная матрица:\n",
      "[2, 994, 5]\n",
      "[3, 8, 3]\n",
      "[76, -1, 4]\n",
      "[3, 3, 4]\n",
      "[52, 9, 10]\n"
     ]
    }
   ],
   "source": [
    "'''Уровень 2, задание 10\n",
    "В заданной квадратной матрице найти максимальный элемент среди элементов, расположенных ниже главной диагонали \n",
    "(включая диагональ), и минимальный элемент среди элементов, расположенных выше главной диагонали. \n",
    "Удалить столбцы, в которых они находятся. Удаление столбца оформить в виде метода. '''\n",
    "\n",
    "A = [[1,2,3,994,5],[7,3,-2,8,3],[92,76,12,-1,4],[7,3,2,3,4],[72,52,8,9,10]]\n",
    "for z in A:\n",
    "    print(z)\n",
    "max_value = A[0][0]\n",
    "min_value = A[0][0]\n",
    "for i in range(len(A)):\n",
    "    for j in range(len(A)):\n",
    "        if i>=j:\n",
    "            if max_value<A[i][j]:\n",
    "                max_value = A[i][j]\n",
    "                max_stolb=j\n",
    "        else:\n",
    "            if min_value>A[i][j]:\n",
    "                min_value=A[i][j]\n",
    "                min_stolb=j\n",
    "def delete_stolb(a, stolb):\n",
    "    for k in a:\n",
    "        k.pop(stolb)\n",
    "    return a\n",
    "print('Максимальный элемент под главной диагональю:', max_value)\n",
    "print('Минимальный элемент над главной диагональю:', min_value)\n",
    "print('Конечная матрица:')\n",
    "if max_stolb>min_stolb:\n",
    "    for y in delete_stolb(delete_stolb(A, max_stolb), min_stolb):\n",
    "        print(y)\n",
    "elif min_stolb==max_stolb:\n",
    "    for y in delete_stolb(delete_stolb(A, max_stolb)):\n",
    "        print(y)\n",
    "elif max_stolb<min_stolb:\n",
    "    for y in delete_stolb(delete_stolb(A, max_stolb), min_stolb - 1):\n",
    "        print(y)"
   ]
  },
  {
   "cell_type": "code",
   "execution_count": 11,
   "id": "7d574462-dd8d-4874-87e1-073705916d80",
   "metadata": {},
   "outputs": [
    {
     "name": "stdout",
     "output_type": "stream",
     "text": [
      "[1, 2, 3, 994, 5]\n",
      "[7, 3, -2, 8, 3]\n",
      "[92, 76, 12, -1, 4]\n",
      "[7, 3, 2, 3, 4]\n",
      "[72, 52, 8, 9, 10]\n",
      "Максимальный элемент под главной диагональю: 92\n",
      "Минимальный элемент над главной диагональю: -2\n",
      "Конечная матрица:\n",
      "[2, 994, 5]\n",
      "[3, 8, 3]\n",
      "[76, -1, 4]\n",
      "[3, 3, 4]\n",
      "[52, 9, 10]\n"
     ]
    }
   ],
   "source": [
    "'''Уровень 3, задание 6'\n",
    "Поменять местами столбец, содержащий максимальный элемент на главной диагонали заданной квадратной матрицы, со столбцом, \n",
    "содержащим максимальный элемент в первой строке матрицы. Для замены столбцов использовать метод.\n",
    "Для поиска соответствую- цих максимальных элементов использовать делегат. '''\n",
    "\n",
    "A = [[10,12,30,19,50],[70,99,-2,18,3],[92,76,12,-1,4],[70,30,22,13,4],[72,52,58,19,1]]\n",
    "print('Начальная матрица: ')\n",
    "for z in A:\n",
    "    print(z)\n",
    "max_perviy = A[0][0]\n",
    "max_glavnaya = A[0][0]\n",
    "for i in range(len(A)):\n",
    "    for j in range(len(A)):\n",
    "        if i == 0:\n",
    "            if max_perviy < A[i][j]:\n",
    "                max_perviy = A[i][j]\n",
    "                max_perviy_stolb = j\n",
    "        if i==j:\n",
    "            if max_glavnaya < A[i][j]:\n",
    "                max_glavnaya = A[i][j]\n",
    "                max_glavnaya_stolb = j\n",
    "print(f'На главной диагонали наибольший член {max_glavnaya} в столбце под номером {max_glavnaya_stolb + 1}')\n",
    "print(f'В первой строке наибольший член {max_perviy} в столбце под номером {max_perviy_stolb + 1}')\n",
    "def zamena(a, b, c):\n",
    "    for k in range(len(a)):\n",
    "        a[k][b], a[k][c] = a[k][c], a[k][b]\n",
    "    return a\n",
    "print('Конечная матрица: ')\n",
    "for v in zamena(A, max_glavnaya_stolb, max_perviy_stolb):\n",
    "    print(v)"
   ]
  },
  {
   "cell_type": "code",
   "execution_count": 16,
   "id": "1be155da-7c37-44e6-a856-203b5fb4c70b",
   "metadata": {},
   "outputs": [
    {
     "name": "stdout",
     "output_type": "stream",
     "text": [
      "Начальная матрица: \n",
      "[10, 12, 30, 19, 50]\n",
      "[70, 99, -2, 18, 3]\n",
      "[92, 76, 12, -1, 4]\n",
      "[70, 30, 22, 13, 4]\n",
      "[72, 52, 58, 19, 1]\n",
      "На главной диагонали наибольший член 99 в столбце под номером 2\n",
      "В первой строке наибольший член 50 в столбце под номером 5\n",
      "Конечная матрица: \n",
      "[10, 50, 30, 19, 12]\n",
      "[70, 3, -2, 18, 99]\n",
      "[92, 4, 12, -1, 76]\n",
      "[70, 4, 22, 13, 30]\n",
      "[72, 1, 58, 19, 52]\n"
     ]
    }
   ],
   "source": []
  },
  {
   "cell_type": "code",
   "execution_count": null,
   "id": "489c74dd-1f19-49d2-8f9f-45420b71fb53",
   "metadata": {},
   "outputs": [],
   "source": []
  },
  {
   "cell_type": "code",
   "execution_count": null,
   "id": "caab1d14-1d09-409d-ab25-75ddd8da65a3",
   "metadata": {},
   "outputs": [],
   "source": []
  }
 ],
 "metadata": {
  "kernelspec": {
   "display_name": "Python 3 (ipykernel)",
   "language": "python",
   "name": "python3"
  },
  "language_info": {
   "codemirror_mode": {
    "name": "ipython",
    "version": 3
   },
   "file_extension": ".py",
   "mimetype": "text/x-python",
   "name": "python",
   "nbconvert_exporter": "python",
   "pygments_lexer": "ipython3",
   "version": "3.12.4"
  }
 },
 "nbformat": 4,
 "nbformat_minor": 5
}
