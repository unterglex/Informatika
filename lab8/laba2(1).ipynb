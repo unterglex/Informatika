{
 "cells": [
  {
   "cell_type": "code",
   "execution_count": 1,
   "id": "69cac6cd-4e63-4dbb-80a9-ffb0094648f5",
   "metadata": {},
   "outputs": [
    {
     "name": "stdout",
     "output_type": "stream",
     "text": [
      "1\n"
     ]
    }
   ],
   "source": [
    "from random import seed, randint\n",
    "seed(113)\n",
    "x=randint(1,15)\n",
    "print(x)"
   ]
  },
  {
   "cell_type": "code",
   "execution_count": 3,
   "id": "fcce275e-af12-45ee-8d09-e096b89a0e34",
   "metadata": {},
   "outputs": [
    {
     "name": "stdout",
     "output_type": "stream",
     "text": [
      "Буква 'в': 0.0769\n",
      "Буква 'е': 0.1538\n",
      "Буква 'и': 0.0769\n",
      "Буква 'к': 0.0256\n",
      "Буква 'л': 0.0513\n",
      "Буква 'м': 0.0256\n",
      "Буква 'н': 0.0769\n",
      "Буква 'о': 0.0769\n",
      "Буква 'п': 0.0513\n",
      "Буква 'р': 0.0256\n",
      "Буква 'с': 0.0769\n",
      "Буква 'т': 0.1026\n",
      "Буква 'у': 0.0256\n",
      "Буква 'ц': 0.0513\n",
      "Буква 'ы': 0.0256\n",
      "Буква 'ю': 0.0513\n",
      "Буква 'я': 0.0256\n"
     ]
    }
   ],
   "source": [
    "text = \"Cолнце светит ярко, и птицы поюют в весеннем лесу\".lower()\n",
    "total = 0\n",
    "for bukva in text:\n",
    "    if 'а' <= bukva <= 'я':\n",
    "        total += 1\n",
    "frequency = {}\n",
    "for bukva in text:\n",
    "    if 'а' <= bukva <= 'я':\n",
    "        if bukva in frequency:\n",
    "            frequency[bukva] += 1\n",
    "        else:\n",
    "            frequency[bukva] = 1\n",
    "for bukva in frequency:\n",
    "    frequency[bukva] /= total\n",
    "for bukva, freq in sorted(frequency.items()):\n",
    "    print(f\"Буква '{bukva}': {freq:.4f}\")"
   ]
  },
  {
   "cell_type": "code",
   "execution_count": null,
   "id": "4edfb3da-398a-4608-83f3-36408c964b47",
   "metadata": {},
   "outputs": [],
   "source": []
  }
 ],
 "metadata": {
  "kernelspec": {
   "display_name": "Python 3 (ipykernel)",
   "language": "python",
   "name": "python3"
  },
  "language_info": {
   "codemirror_mode": {
    "name": "ipython",
    "version": 3
   },
   "file_extension": ".py",
   "mimetype": "text/x-python",
   "name": "python",
   "nbconvert_exporter": "python",
   "pygments_lexer": "ipython3",
   "version": "3.12.4"
  }
 },
 "nbformat": 4,
 "nbformat_minor": 5
}
